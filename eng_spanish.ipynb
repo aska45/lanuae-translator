{
  "cells": [
    {
      "cell_type": "markdown",
      "metadata": {
        "id": "view-in-github",
        "colab_type": "text"
      },
      "source": [
        "<a href=\"https://colab.research.google.com/github/aska45/lanuae-translator/blob/main/eng_spanish.ipynb\" target=\"_parent\"><img src=\"https://colab.research.google.com/assets/colab-badge.svg\" alt=\"Open In Colab\"/></a>"
      ]
    },
    {
      "cell_type": "code",
      "execution_count": 1,
      "metadata": {
        "id": "0xYt-ojwSPRq"
      },
      "outputs": [],
      "source": [
        "import pathlib\n",
        "import random\n",
        "import string\n",
        "import tensorflow.strings as tf_strings\n",
        "import tensorflow.data as tf_data\n",
        "import re\n",
        "from keras.layers import TextVectorization\n",
        "import keras\n",
        "import tensorflow as tf\n",
        "from keras import layers\n",
        "import json"
      ]
    },
    {
      "cell_type": "code",
      "execution_count": 2,
      "metadata": {
        "colab": {
          "base_uri": "https://localhost:8080/"
        },
        "id": "hlx8N02fSisK",
        "outputId": "6d0cf6e3-3608-4fbe-f7f3-f985d77356a4"
      },
      "outputs": [
        {
          "output_type": "stream",
          "name": "stdout",
          "text": [
            "Downloading data from http://storage.googleapis.com/download.tensorflow.org/data/spa-eng.zip\n",
            "2638744/2638744 [==============================] - 0s 0us/step\n"
          ]
        }
      ],
      "source": [
        "text_file=keras.utils.get_file(\n",
        "    fname=\"spa-eng.zip\",\n",
        "    origin=\"http://storage.googleapis.com/download.tensorflow.org/data/spa-eng.zip\",\n",
        "    extract=True\n",
        ")\n",
        "\n",
        "text_file=pathlib.Path(text_file).parent/\"spa-eng\"/\"spa.txt\"\n",
        "with open(text_file,\"r\") as f:\n",
        "    lines=f.read().split(\"\\n\")[:-1]\n",
        "text_pairs=[]\n",
        "\n",
        "for line in lines:\n",
        "    eng,spa=line.split(\"\\t\")\n",
        "    spa=f\"[start] {spa} [end]\"\n",
        "    text_pairs.append((eng,spa))"
      ]
    },
    {
      "cell_type": "code",
      "execution_count": 3,
      "metadata": {
        "id": "K0KVchYsTjG_"
      },
      "outputs": [],
      "source": [
        "random.shuffle(text_pairs)"
      ]
    },
    {
      "cell_type": "code",
      "execution_count": 4,
      "metadata": {
        "colab": {
          "base_uri": "https://localhost:8080/"
        },
        "id": "pBPZaA-QTwPQ",
        "outputId": "d63b5070-c310-4aff-e425-20a639947848"
      },
      "outputs": [
        {
          "output_type": "stream",
          "name": "stdout",
          "text": [
            "('You are a patient woman.', '[start] Eres una mujer paciente. [end]')\n",
            "('Bring me a bucket of water.', '[start] Tráeme un balde de agua. [end]')\n",
            "('She quit the company.', '[start] Ella renunció a la compañía. [end]')\n",
            "(\"Tom saw Mary driving John's new car.\", '[start] Tom vio a Mary conduciendo el auto nuevo de John. [end]')\n",
            "('Shall we begin?', '[start] ¿Empezamos? [end]')\n"
          ]
        }
      ],
      "source": [
        "for i in range(5):\n",
        "    print(text_pairs[i])"
      ]
    },
    {
      "cell_type": "code",
      "execution_count": 5,
      "metadata": {
        "colab": {
          "base_uri": "https://localhost:8080/"
        },
        "id": "fDrc_4nIT04D",
        "outputId": "c011fd88-7e66-4e31-d674-9668678fd016"
      },
      "outputs": [
        {
          "output_type": "stream",
          "name": "stdout",
          "text": [
            "118964 total pairs\n",
            "83276 training pairs\n",
            "17844 validation pairs\n",
            "17844 test pairs\n"
          ]
        }
      ],
      "source": [
        "num_val_samples = int(0.15 * len(text_pairs))\n",
        "num_train_samples = len(text_pairs) - 2 * num_val_samples\n",
        "train_pairs = text_pairs[:num_train_samples]\n",
        "val_pairs = text_pairs[num_train_samples:num_train_samples + num_val_samples]\n",
        "test_pairs = text_pairs[num_train_samples + num_val_samples:]\n",
        "\n",
        "print(f\"{len(text_pairs)} total pairs\")\n",
        "print(f\"{len(train_pairs)} training pairs\")\n",
        "print(f\"{len(val_pairs)} validation pairs\")\n",
        "print(f\"{len(test_pairs)} test pairs\")"
      ]
    },
    {
      "cell_type": "code",
      "execution_count": 6,
      "metadata": {
        "id": "JLhEaYCgT3h4"
      },
      "outputs": [],
      "source": [
        "# parameters\n",
        "strip_chars = string.punctuation + \"¿\"\n",
        "strip_chars = strip_chars.replace(\"[\", \"\")\n",
        "strip_chars = strip_chars.replace(\"]\", \"\")\n",
        "\n",
        "vocab_size = 15000\n",
        "sequence_length = 20\n",
        "batch_size = 64"
      ]
    },
    {
      "cell_type": "code",
      "execution_count": 7,
      "metadata": {
        "id": "5vZR9p2OT6Ml"
      },
      "outputs": [],
      "source": [
        "def custom_standardization(input_string):\n",
        "    lowercase = tf_strings.lower(input_string)\n",
        "    return tf_strings.regex_replace(lowercase, f\"[{re.escape(strip_chars)}]\", \"\")\n",
        "\n",
        "# vectorization\n",
        "eng_vectorization = TextVectorization(\n",
        "    max_tokens = vocab_size,\n",
        "    output_mode = \"int\",\n",
        "    output_sequence_length = sequence_length,\n",
        ")\n",
        "\n",
        "spa_vectorization = TextVectorization(\n",
        "    max_tokens = vocab_size,\n",
        "    output_mode = \"int\",\n",
        "    output_sequence_length = sequence_length + 1,\n",
        "    standardize = custom_standardization,\n",
        ")\n",
        "\n",
        "train_eng_texts = [pair[0] for pair in train_pairs]\n",
        "train_spa_texts = [pair[1] for pair in train_pairs]\n",
        "\n",
        "eng_vectorization.adapt(train_eng_texts)\n",
        "spa_vectorization.adapt(train_spa_texts)\n",
        "\n",
        "#save the vectorization layers\n",
        "eng_vectorization_config = eng_vectorization.get_config()\n",
        "eng_vectorization_config.pop('standardize', None)\n",
        "eng_vocab = eng_vectorization.get_vocabulary()\n",
        "with open('eng_vectorization_config.json', 'w', encoding='utf-8') as f:\n",
        "    json.dump(eng_vectorization_config, f)\n",
        "\n",
        "with open('eng_vocab.json', 'w', encoding='utf-8') as f:\n",
        "    json.dump(eng_vocab, f)\n",
        "\n",
        "spa_vectorization_config = spa_vectorization.get_config()\n",
        "spa_vectorization_config.pop('standardize', None)\n",
        "spa_vocab = spa_vectorization.get_vocabulary()\n",
        "with open('spa_vectorization_config.json', 'w', encoding='utf-8') as f:\n",
        "    json.dump(spa_vectorization_config, f)\n",
        "\n",
        "with open('spa_vocab.json', 'w', encoding='utf-8') as f:\n",
        "    json.dump(spa_vocab, f)\n",
        "\n",
        "\n",
        "def format_dataset(eng, spa):\n",
        "    eng = eng_vectorization(eng)\n",
        "    spa = spa_vectorization(spa)\n",
        "    return (\n",
        "        {\n",
        "            \"encoder_inputs\": eng,\n",
        "            \"decoder_inputs\": spa[:, :-1],\n",
        "        },\n",
        "        spa[:, 1:],\n",
        "    )\n",
        "\n",
        "def make_dataset(pairs):\n",
        "    eng_texts, spa_texts = zip(*pairs)\n",
        "    eng_texts = list(eng_texts)\n",
        "    spa_texts = list(spa_texts)\n",
        "    dataset = tf_data.Dataset.from_tensor_slices((eng_texts, spa_texts))\n",
        "    dataset = dataset.batch(batch_size)\n",
        "    dataset = dataset.map(format_dataset)\n",
        "    return dataset.cache().shuffle(2048).prefetch(16)\n",
        "\n",
        "train_ds = make_dataset(train_pairs)\n",
        "val_ds = make_dataset(val_pairs)"
      ]
    },
    {
      "cell_type": "code",
      "execution_count": 8,
      "metadata": {
        "colab": {
          "base_uri": "https://localhost:8080/"
        },
        "id": "MOjrOXE4UDzE",
        "outputId": "fb8d043f-7524-4f9b-8798-d9026b1f72a6"
      },
      "outputs": [
        {
          "output_type": "stream",
          "name": "stdout",
          "text": [
            "(64, 20)\n",
            "(64, 20)\n"
          ]
        }
      ],
      "source": [
        "for inputs,targets in train_ds.take(1):\n",
        "    print(inputs[\"encoder_inputs\"].shape)\n",
        "    print(targets.shape)"
      ]
    },
    {
      "cell_type": "code",
      "execution_count": 9,
      "metadata": {
        "id": "nV4acm3ZUGag"
      },
      "outputs": [],
      "source": [
        "# Creating an Encoder\n",
        "class TransformerEncoder(layers.Layer):\n",
        "    def __init__(self, embed_dim, dense_dim, num_heads, **kwargs):\n",
        "        super().__init__(**kwargs)\n",
        "        self.embed_dim = embed_dim\n",
        "        self.dense_dim = dense_dim\n",
        "        self.num_heads = num_heads\n",
        "        self.attention = layers.MultiHeadAttention(\n",
        "            num_heads = num_heads, key_dim = embed_dim\n",
        "        )\n",
        "        self.dense_proj = keras.Sequential(\n",
        "            [\n",
        "                layers.Dense(dense_dim, activation = \"relu\"),\n",
        "                layers.Dense(embed_dim),\n",
        "            ]\n",
        "        )\n",
        "        self.layernorm_1 = layers.LayerNormalization()\n",
        "        self.layernorm_2 = layers.LayerNormalization()\n",
        "        self.supports_masking = True\n",
        "\n",
        "    def call(self, inputs, mask=None):\n",
        "        if mask is not None:\n",
        "            padding_mask = tf.cast(mask[:, None, :], dtype = tf.int32)\n",
        "        else:\n",
        "            padding_mask = None\n",
        "\n",
        "        attention_output = self.attention(\n",
        "            query = inputs,\n",
        "            value = inputs,\n",
        "            key = inputs,\n",
        "            attention_mask = padding_mask,\n",
        "        )\n",
        "        proj_input = self.layernorm_1(inputs + attention_output)\n",
        "        proj_output = self.dense_proj(proj_input)\n",
        "        return self.layernorm_2(proj_input + proj_output)\n",
        "\n",
        "    def get_config(self):\n",
        "        config = super().get_config()\n",
        "        config.update({\n",
        "            \"embed_dim\": self.embed_dim,\n",
        "            \"dense_dim\": self.dense_dim,\n",
        "            \"num_heads\": self.num_heads,\n",
        "        })\n",
        "        return config\n",
        "\n",
        "# Creating a Positional Embedding\n",
        "class PositionalEmbedding(layers.Layer):\n",
        "    def __init__(self, sequence_length, vocab_size, embed_dim, **kwargs):\n",
        "        super().__init__(**kwargs)\n",
        "        self.token_embeddings = layers.Embedding(\n",
        "            input_dim = vocab_size, output_dim = embed_dim\n",
        "        )\n",
        "        self.position_embeddings = layers.Embedding(\n",
        "            input_dim = sequence_length, output_dim = embed_dim\n",
        "        )\n",
        "        self.sequence_length = sequence_length\n",
        "        self.vocab_size = vocab_size\n",
        "        self.embed_dim = embed_dim\n",
        "\n",
        "    def call(self, inputs):\n",
        "        length = tf.shape(inputs)[-1]\n",
        "        positions = tf.range(start = 0, limit = length, delta = 1)\n",
        "        embedded_tokens = self.token_embeddings(inputs)\n",
        "        embedded_positions = self.position_embeddings(positions)\n",
        "        return embedded_tokens + embedded_positions\n",
        "\n",
        "    def compute_mask(self, inputs, mask=None):\n",
        "        if mask is not None:\n",
        "            return tf.not_equal(inputs, 0)\n",
        "        else:\n",
        "            return None\n",
        "\n",
        "    def get_config(self):\n",
        "        config = super().get_config()\n",
        "        config.update({\n",
        "            \"vocab_size\": self.vocab_size,\n",
        "            \"sequence_length\": self.sequence_length,\n",
        "            \"embed_dim\": self.embed_dim,\n",
        "        })\n",
        "        return config\n",
        "\n",
        "# Creating a Decoder\n",
        "class TransformerDecoder(layers.Layer):\n",
        "    def __init__(self, embed_dim, latent_dim, num_heads, **kwargs):\n",
        "        super().__init__(**kwargs)\n",
        "        self.embed_dim = embed_dim\n",
        "        self.latent_dim = latent_dim\n",
        "        self.num_heads = num_heads\n",
        "        self.attention_1 = layers.MultiHeadAttention(\n",
        "            num_heads = num_heads, key_dim = embed_dim\n",
        "        )\n",
        "        self.attention_2 = layers.MultiHeadAttention(\n",
        "            num_heads = num_heads, key_dim = embed_dim\n",
        "        )\n",
        "        self.dense_proj = keras.Sequential(\n",
        "            [\n",
        "                layers.Dense(latent_dim, activation = \"relu\"),\n",
        "                layers.Dense(embed_dim),\n",
        "            ]\n",
        "        )\n",
        "        self.layernorm_1 = layers.LayerNormalization()\n",
        "        self.layernorm_2 = layers.LayerNormalization()\n",
        "        self.layernorm_3 = layers.LayerNormalization()\n",
        "        self.supports_masking = True\n",
        "\n",
        "    def call(self, inputs, encoder_outputs, mask=None):\n",
        "        casual_mask = self.get_causal_attention_mask(inputs)\n",
        "        if mask is not None:\n",
        "            padding_mask = tf.cast(mask[:, None, :], dtype = tf.int32)\n",
        "            padding_mask = tf.minimum(padding_mask, casual_mask)\n",
        "        else:\n",
        "            padding_mask = None\n",
        "\n",
        "        attention_output_1 = self.attention_1(\n",
        "            query = inputs,\n",
        "            value = inputs,\n",
        "            key = inputs,\n",
        "            attention_mask = casual_mask,\n",
        "        )\n",
        "        out_1 = self.layernorm_1(inputs + attention_output_1)\n",
        "\n",
        "        attention_output_2 = self.attention_2(\n",
        "            query = out_1,\n",
        "            value = encoder_outputs,\n",
        "            key = encoder_outputs,\n",
        "            attention_mask = padding_mask,\n",
        "        )\n",
        "\n",
        "        out_2 = self.layernorm_2(out_1 + attention_output_2)\n",
        "        proj_output = self.dense_proj(out_2)\n",
        "\n",
        "        return self.layernorm_3(out_2 + proj_output)\n",
        "\n",
        "    def get_causal_attention_mask(self, inputs):\n",
        "        input_shape = tf.shape(inputs)\n",
        "        batch_size, sequence_length = input_shape[0], input_shape[1]\n",
        "        i = tf.range(sequence_length)[:, None]\n",
        "        j = tf.range(sequence_length)\n",
        "        mask = tf.cast(i >= j, tf.int32)\n",
        "        mask = tf.reshape(mask,(1, input_shape[1], input_shape[1]))\n",
        "        mult = tf.concat(\n",
        "            [\n",
        "                tf.expand_dims(batch_size, -1),\n",
        "                tf.convert_to_tensor([1, 1]),\n",
        "            ],\n",
        "            axis = 0,\n",
        "        )\n",
        "        return tf.tile(mask, mult)\n",
        "\n",
        "    def get_config(self):\n",
        "        config = super().get_config()\n",
        "        config.update({\n",
        "            \"embed_dim\": self.embed_dim,\n",
        "            \"latent_dim\": self.latent_dim,\n",
        "            \"num_heads\": self.num_heads,\n",
        "        })\n",
        "        return config"
      ]
    },
    {
      "cell_type": "code",
      "execution_count": 10,
      "metadata": {
        "id": "-gkK6BC8UMBq"
      },
      "outputs": [],
      "source": [
        "# define emmbedding dimensions, latent dimensions, and number of heads\n",
        "embed_dim = 256\n",
        "latent_dim = 2048\n",
        "num_heads = 8\n",
        "\n",
        "#Encoder\n",
        "encoder_inputs = keras.Input(shape = (None,), dtype = \"int64\", name = \"encoder_inputs\")\n",
        "\n",
        "x = PositionalEmbedding(sequence_length, vocab_size, embed_dim)(encoder_inputs)\n",
        "\n",
        "encoder_outputs = TransformerEncoder(embed_dim, latent_dim, num_heads)(x)\n",
        "\n",
        "encoder = keras.Model(encoder_inputs, encoder_outputs, name = \"encoder\")\n",
        "\n",
        "#Decoder\n",
        "decoder_inputs = keras.Input(shape = (None,), dtype = \"int64\", name = \"decoder_inputs\")\n",
        "encoder_seq_inputs = keras.Input(shape = (None, embed_dim), name = \"encoder_seq_inputs\")\n",
        "\n",
        "x = PositionalEmbedding(sequence_length, vocab_size, embed_dim)(decoder_inputs)\n",
        "\n",
        "x = TransformerDecoder(embed_dim, latent_dim, num_heads)(x, encoder_seq_inputs)\n",
        "\n",
        "x = layers.Dropout(0.5)(x)\n",
        "\n",
        "decoder_outputs = layers.Dense(vocab_size, activation = \"softmax\")(x)\n",
        "\n",
        "decoder = keras.Model([decoder_inputs, encoder_seq_inputs], decoder_outputs, name = \"decoder\")\n",
        "\n",
        "# Define the final model\n",
        "decoder_outputs = decoder([decoder_inputs, encoder_outputs])\n",
        "\n",
        "transformer = keras.Model(\n",
        "    [encoder_inputs, decoder_inputs], decoder_outputs, name = \"transformer\"\n",
        ")\n"
      ]
    },
    {
      "cell_type": "code",
      "execution_count": 11,
      "metadata": {
        "colab": {
          "base_uri": "https://localhost:8080/"
        },
        "id": "XT6FLXKBUQ62",
        "outputId": "e0d09400-c173-49cc-8fc1-7b55f1caeb28"
      },
      "outputs": [
        {
          "output_type": "stream",
          "name": "stdout",
          "text": [
            "Model: \"transformer\"\n",
            "__________________________________________________________________________________________________\n",
            " Layer (type)                Output Shape                 Param #   Connected to                  \n",
            "==================================================================================================\n",
            " encoder_inputs (InputLayer  [(None, None)]               0         []                            \n",
            " )                                                                                                \n",
            "                                                                                                  \n",
            " positional_embedding (Posi  (None, None, 256)            3845120   ['encoder_inputs[0][0]']      \n",
            " tionalEmbedding)                                                                                 \n",
            "                                                                                                  \n",
            " decoder_inputs (InputLayer  [(None, None)]               0         []                            \n",
            " )                                                                                                \n",
            "                                                                                                  \n",
            " transformer_encoder (Trans  (None, None, 256)            3155456   ['positional_embedding[0][0]']\n",
            " formerEncoder)                                                                                   \n",
            "                                                                                                  \n",
            " decoder (Functional)        (None, None, 15000)          1295964   ['decoder_inputs[0][0]',      \n",
            "                                                          0          'transformer_encoder[0][0]'] \n",
            "                                                                                                  \n",
            "==================================================================================================\n",
            "Total params: 19960216 (76.14 MB)\n",
            "Trainable params: 19960216 (76.14 MB)\n",
            "Non-trainable params: 0 (0.00 Byte)\n",
            "__________________________________________________________________________________________________\n",
            "Epoch 1/20\n",
            "1302/1302 [==============================] - 107s 76ms/step - loss: 1.7363 - accuracy: 0.7474 - val_loss: 1.1812 - val_accuracy: 0.8111\n",
            "Epoch 2/20\n",
            "1302/1302 [==============================] - 90s 69ms/step - loss: 1.0663 - accuracy: 0.8313 - val_loss: 0.8696 - val_accuracy: 0.8545\n",
            "Epoch 3/20\n",
            "1302/1302 [==============================] - 90s 69ms/step - loss: 0.8599 - accuracy: 0.8581 - val_loss: 0.7706 - val_accuracy: 0.8677\n",
            "Epoch 4/20\n",
            "1302/1302 [==============================] - 90s 69ms/step - loss: 0.7606 - accuracy: 0.8715 - val_loss: 0.7286 - val_accuracy: 0.8743\n",
            "Epoch 5/20\n",
            "1302/1302 [==============================] - 90s 69ms/step - loss: 0.6985 - accuracy: 0.8799 - val_loss: 0.7073 - val_accuracy: 0.8780\n",
            "Epoch 6/20\n",
            "1302/1302 [==============================] - 91s 70ms/step - loss: 0.6544 - accuracy: 0.8864 - val_loss: 0.6893 - val_accuracy: 0.8821\n",
            "Epoch 7/20\n",
            "1302/1302 [==============================] - 90s 69ms/step - loss: 0.6210 - accuracy: 0.8917 - val_loss: 0.6798 - val_accuracy: 0.8843\n",
            "Epoch 8/20\n",
            "1302/1302 [==============================] - 90s 69ms/step - loss: 0.5953 - accuracy: 0.8959 - val_loss: 0.6914 - val_accuracy: 0.8833\n",
            "Epoch 9/20\n",
            "1302/1302 [==============================] - 90s 69ms/step - loss: 0.5735 - accuracy: 0.8994 - val_loss: 0.6811 - val_accuracy: 0.8852\n",
            "Epoch 10/20\n",
            "1302/1302 [==============================] - 90s 69ms/step - loss: 0.5568 - accuracy: 0.9025 - val_loss: 0.6861 - val_accuracy: 0.8860\n",
            "Epoch 11/20\n",
            "1302/1302 [==============================] - 90s 69ms/step - loss: 0.5415 - accuracy: 0.9050 - val_loss: 0.6936 - val_accuracy: 0.8862\n",
            "Epoch 12/20\n",
            "1302/1302 [==============================] - 90s 69ms/step - loss: 0.5285 - accuracy: 0.9076 - val_loss: 0.7126 - val_accuracy: 0.8860\n",
            "Epoch 13/20\n",
            "1302/1302 [==============================] - 90s 69ms/step - loss: 0.5177 - accuracy: 0.9099 - val_loss: 0.7111 - val_accuracy: 0.8865\n",
            "Epoch 14/20\n",
            "1302/1302 [==============================] - 90s 69ms/step - loss: 0.5059 - accuracy: 0.9121 - val_loss: 0.7162 - val_accuracy: 0.8856\n",
            "Epoch 15/20\n",
            "1302/1302 [==============================] - 90s 69ms/step - loss: 0.4973 - accuracy: 0.9137 - val_loss: 0.7208 - val_accuracy: 0.8864\n",
            "Epoch 16/20\n",
            "1302/1302 [==============================] - 90s 69ms/step - loss: 0.4872 - accuracy: 0.9155 - val_loss: 0.7324 - val_accuracy: 0.8874\n",
            "Epoch 17/20\n",
            "1302/1302 [==============================] - 91s 70ms/step - loss: 0.4806 - accuracy: 0.9169 - val_loss: 0.7434 - val_accuracy: 0.8853\n",
            "Epoch 18/20\n",
            "1302/1302 [==============================] - 90s 69ms/step - loss: 0.4718 - accuracy: 0.9187 - val_loss: 0.7497 - val_accuracy: 0.8855\n",
            "Epoch 19/20\n",
            "1302/1302 [==============================] - 91s 70ms/step - loss: 0.4642 - accuracy: 0.9202 - val_loss: 0.7509 - val_accuracy: 0.8876\n",
            "Epoch 20/20\n",
            "1302/1302 [==============================] - 92s 70ms/step - loss: 0.4567 - accuracy: 0.9216 - val_loss: 0.7582 - val_accuracy: 0.8879\n"
          ]
        },
        {
          "output_type": "execute_result",
          "data": {
            "text/plain": [
              "<keras.src.callbacks.History at 0x7999fc569bd0>"
            ]
          },
          "metadata": {},
          "execution_count": 11
        }
      ],
      "source": [
        "epochs = 20\n",
        "\n",
        "transformer.summary()\n",
        "\n",
        "transformer.compile(\n",
        "    \"rmsprop\", loss = \"sparse_categorical_crossentropy\", metrics = [\"accuracy\"]\n",
        ")\n",
        "\n",
        "transformer.fit(train_ds, epochs = epochs, validation_data = val_ds)"
      ]
    },
    {
      "cell_type": "code",
      "execution_count": 12,
      "metadata": {
        "id": "GOpQ5E6cUTNr"
      },
      "outputs": [],
      "source": [
        "transformer.save(\"transformer_model\")"
      ]
    },
    {
      "cell_type": "code",
      "execution_count": 13,
      "metadata": {
        "id": "Rk8X6X0wUV53",
        "colab": {
          "base_uri": "https://localhost:8080/"
        },
        "outputId": "a28bd5a4-6034-4f1e-84ec-822936bf09e3"
      },
      "outputs": [
        {
          "output_type": "stream",
          "name": "stdout",
          "text": [
            "input: tom couldnt solve the problem could he\n",
            "translated: [start] tom no pudo resolver el problema [end]\n",
            "\n",
            "input: it was amusing\n",
            "translated: [start] fue divertido [end]\n",
            "\n",
            "input: he likes to sing in the bathtub\n",
            "translated: [start] a él le gusta cantar en la [UNK] [end]\n",
            "\n",
            "input: you must study much harder\n",
            "translated: [start] debes estudiar mucho más [end]\n",
            "\n",
            "input: we assemble water heaters\n",
            "translated: [start] [UNK] [UNK] de agua [end]\n",
            "\n"
          ]
        }
      ],
      "source": [
        "spa_vocab = spa_vectorization.get_vocabulary()\n",
        "spa_index_lookup = dict(zip(range(len(spa_vocab)), spa_vocab))\n",
        "max_decoded_sentence_length = sequence_length\n",
        "\n",
        "def decode_sentence(input_sentence):\n",
        "    tokenized_input_sentence = eng_vectorization([input_sentence])\n",
        "    decoded_sentence = \"[start]\"\n",
        "    for i in range(max_decoded_sentence_length):\n",
        "        tokenized_target_sentence = spa_vectorization([decoded_sentence])[:, :-1]\n",
        "        predictions = transformer([tokenized_input_sentence, tokenized_target_sentence])\n",
        "        sampled_token_index = tf.argmax(predictions[0, i, :]).numpy().item(0)\n",
        "        sampled_token = spa_index_lookup[sampled_token_index]\n",
        "        decoded_sentence += \" \" + sampled_token\n",
        "        if sampled_token == \"[end]\":\n",
        "            break\n",
        "    return decoded_sentence\n",
        "\n",
        "test_eng_texts = [pair[0] for pair in test_pairs]\n",
        "for _ in range(5):\n",
        "    input_sentence = random.choice(test_eng_texts)\n",
        "    input_sentence = input_sentence.lower()\n",
        "    input_sentence = input_sentence.translate(str.maketrans('', '', strip_chars))\n",
        "    translated = decode_sentence(input_sentence)\n",
        "    print(f\"input: {input_sentence}\")\n",
        "    print(f\"translated: {translated}\")\n",
        "    print()"
      ]
    },
    {
      "cell_type": "code",
      "execution_count": 13,
      "metadata": {
        "id": "G_JL1diXUYWF"
      },
      "outputs": [],
      "source": []
    }
  ],
  "metadata": {
    "accelerator": "GPU",
    "colab": {
      "gpuType": "T4",
      "provenance": [],
      "mount_file_id": "1sqJwyZ6ya1ozUosqNw78NwIoJb2n_LmT",
      "authorship_tag": "ABX9TyPQJZmyjXKoKhEzlC961iRh",
      "include_colab_link": true
    },
    "kernelspec": {
      "display_name": "Python 3",
      "name": "python3"
    },
    "language_info": {
      "name": "python"
    }
  },
  "nbformat": 4,
  "nbformat_minor": 0
}